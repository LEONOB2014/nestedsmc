{
 "metadata": {
  "name": ""
 },
 "nbformat": 3,
 "nbformat_minor": 0,
 "worksheets": [
  {
   "cells": [
    {
     "cell_type": "code",
     "collapsed": false,
     "input": [
      "# Generate exact using KF\n",
      "d = 400\n",
      "tauPhi = 10.\n",
      "filename = 'simulatedData/d'+str(d)+'tauPhi'+str(tauPhi)+'y.txt'\n",
      "y = loadtxt(filename)\n",
      "filename = 'simulatedData/d'+str(d)+'tauPhi'+str(tauPhi)+'P.txt'\n",
      "P = loadtxt(filename)\n",
      "P = P[:d,:d]\n",
      "\n",
      "T = y.shape[1]\n",
      "a = 0.5\n",
      "tauPsi = 1.\n",
      "tauRho = 1.\n",
      "\n",
      "Q = P\n",
      "R = (1/tauPhi)*eye(d)\n",
      "A = tauRho*a*P\n",
      "\n",
      "xpred = zeros( (T,d) )\n",
      "xfilt = zeros( (T,d) )\n",
      "Ppred = zeros( (T, d, d) )\n",
      "Pfilt = zeros( (T, d, d) )\n",
      "\n",
      "for t in range(T):\n",
      "    #print t\n",
      "    xpred[t,:] = dot(A,xfilt[t-1,:])\n",
      "    Ppred[t,:,:] = dot(dot(A,Pfilt[t-1,:,:]),A.T) + Q\n",
      "    \n",
      "    S = Ppred[t,:,:] + R\n",
      "    K = dot(Ppred[t,:,:],inv(S))\n",
      "    \n",
      "    xfilt[t,:] = xpred[t,:] + dot(K,y[:,t]-xpred[t,:])\n",
      "    Pfilt[t,:,:] = Ppred[t,:,:] - dot(K,Ppred[t,:,:])\n",
      "\n",
      "margP = zeros((T,d))\n",
      "for t in range(T):\n",
      "    margP[t,:] = diagonal(Pfilt[t,:,:])\n",
      "savetxt('exact/d'+str(d)+'tauPhi'+str(tauPhi)+'xfilt.txt',xfilt)\n",
      "savetxt('exact/d'+str(d)+'tauPhi'+str(tauPhi)+'margPfilt.txt',margP)\n"
     ],
     "language": "python",
     "metadata": {},
     "outputs": [],
     "prompt_number": 8
    },
    {
     "cell_type": "code",
     "collapsed": false,
     "input": [],
     "language": "python",
     "metadata": {},
     "outputs": []
    }
   ],
   "metadata": {}
  }
 ]
}